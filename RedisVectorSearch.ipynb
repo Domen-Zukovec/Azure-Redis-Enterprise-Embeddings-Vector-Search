{
 "cells": [
  {
   "attachments": {},
   "cell_type": "markdown",
   "metadata": {},
   "source": [
    "##  Redis vector search - Py Notebook 🐍📑\n",
    "\n",
    "    Created by: Domen Žukovec"
   ]
  },
  {
   "attachments": {},
   "cell_type": "markdown",
   "metadata": {},
   "source": [
    "### Imports and const values for OpenAI 🤖🏗️"
   ]
  },
  {
   "cell_type": "code",
   "execution_count": null,
   "metadata": {},
   "outputs": [],
   "source": [
    "import os\n",
    "import json\n",
    "import tiktoken\n",
    "import openai\n",
    "import numpy as np\n",
    "import redis\n",
    "from redis.commands.search.field import TagField, VectorField\n",
    "from redis.commands.search.indexDefinition import IndexDefinition, IndexType\n",
    "from redis.commands.search.query import Query\n",
    "from langchain.embeddings import OpenAIEmbeddings\n",
    "from langchain.text_splitter import CharacterTextSplitter\n",
    "from dotenv import load_dotenv\n",
    "from openai.embeddings_utils import cosine_similarity\n",
    "from tenacity import retry, wait_random_exponential, stop_after_attempt\n",
    "\n",
    "\n",
    "# Load environment variables\n",
    "load_dotenv()\n",
    "\n",
    "# Configure Azure OpenAI Service API\n",
    "openai.api_type = \"azure\"\n",
    "openai.api_version = \"2022-12-01\"\n",
    "openai.api_base = \"\" # put yours here\n",
    "openai.api_key = \"\" # put yours here\n",
    "\n",
    "# Define embedding model and encoding\n",
    "EMBEDDING_MODEL = 'TextEmbeddingAda002' # put yours here\n",
    "EMBEDDING_ENCODING = 'cl100k_base'\n",
    "EMBEDDING_CHUNK_SIZE = 8000\n",
    "COMPLETION_MODEL = 'TextDavinci003' # put yours here\n",
    "\n",
    "REDIS_INDEX_NAME = 'domtistestindex' # put yours here\n",
    "VECTOR_FIELD_IN_REDIS='item_vector'\n",
    "NUMBER_PRODUCTS_INDEX=1000\n",
    "CHOSEN_EMB_MODEL = 'TextEmbeddingAda002' # put yours here\n",
    "REDIS_ADDR = '' # put yours here\n",
    "REDIS_PORT = 10000 # put yours here\n",
    "REDIS_PASSWORD = '' # put yours here\n",
    "\n",
    "\n",
    "# initialize tiktoken for encoding text\n",
    "encoding = tiktoken.get_encoding(EMBEDDING_ENCODING)"
   ]
  },
  {
   "attachments": {},
   "cell_type": "markdown",
   "metadata": {},
   "source": [
    "### Load data into notebook 📒📑"
   ]
  },
  {
   "cell_type": "code",
   "execution_count": 3,
   "metadata": {},
   "outputs": [],
   "source": [
    "def create_array_from_lines(file_path):\n",
    "    with open(file_path, 'r') as f:\n",
    "        lines = f.readlines()\n",
    "\n",
    "    # Create an empty list to hold the lines\n",
    "    array_from_lines = []\n",
    "\n",
    "    for line in lines:\n",
    "        # Add each line to the list\n",
    "        line = line.replace(\"\\n\", \" \")\n",
    "        line = line.replace(\"  \", \" \")\n",
    "        array_from_lines.append(line)\n",
    "\n",
    "    return array_from_lines\n",
    "\n",
    "# Use the function and print the result\n",
    "Questions_array = create_array_from_lines('Questions.txt')\n",
    "Nivo3A_array = create_array_from_lines('Nivo3A.txt')\n",
    "Nivo3_array = create_array_from_lines('Nivo3.txt')"
   ]
  },
  {
   "cell_type": "code",
   "execution_count": 4,
   "metadata": {},
   "outputs": [
    {
     "name": "stdout",
     "output_type": "stream",
     "text": [
      "Loaded 37 documents\n",
      "Content: Kaj je Triglav komplet? ... \n",
      "---> Tokens: 10\n",
      "\n",
      "Content: Kje lahko dobim dodatne informacije o zavarovanju? ... \n",
      "---> Tokens: 19\n",
      "\n",
      "Content: Kakšne so možnosti dodatnih vplačil v zavarovanje? ... \n",
      "---> Tokens: 22\n",
      "\n",
      "Content: Kje lahko dobim dodatne informacije o zavarovanju? ... \n",
      "---> Tokens: 19\n",
      "\n",
      "Content: Kakšne so možnosti dodatnih vplačil v zavarovanje? ... \n",
      "---> Tokens: 22\n",
      "\n",
      "Content: Kakšen je učinek davčne olajšave? ... \n",
      "---> Tokens: 18\n",
      "\n"
     ]
    }
   ],
   "source": [
    "# print some stats about the questions\n",
    "print(f\"Loaded {len(Questions_array)} documents\")\n",
    "for doc in Questions_array[:3]:\n",
    "    num_tokens = len(encoding.encode(doc))\n",
    "    print(f\"Content: {doc[:80]}... \\n---> Tokens: {num_tokens}\\n\")"
   ]
  },
  {
   "attachments": {},
   "cell_type": "markdown",
   "metadata": {},
   "source": [
    "### Create embeddings for all the questions ⚙️💡"
   ]
  },
  {
   "cell_type": "code",
   "execution_count": null,
   "metadata": {},
   "outputs": [],
   "source": [
    "@retry(wait=wait_random_exponential(min=1, max=20), stop=stop_after_attempt(6))\n",
    "def get_embedding(text):\n",
    "    return openai.Embedding.create(input=text, engine=EMBEDDING_MODEL)[\"data\"][0][\"embedding\"]\n",
    "\n",
    "# Create embeddings for all questions\n",
    "embeddings = [get_embedding(doc) for doc in Questions_array]\n",
    "\n",
    "# print some stats about the embeddings (first 3)\n",
    "for e in embeddings[:3]:\n",
    "    print(e)"
   ]
  },
  {
   "attachments": {},
   "cell_type": "markdown",
   "metadata": {},
   "source": [
    "### Working with Redis 📲📮\n",
    "\n",
    "For more info you can visit: https://redis-py.readthedocs.io/en/stable/examples/search_vector_similarity_examples.html"
   ]
  },
  {
   "cell_type": "code",
   "execution_count": 6,
   "metadata": {},
   "outputs": [],
   "source": [
    "# Connect to Redis - here change the host, port, password and ssl parameters to match your Redis Enterprise setup\n",
    "r = redis.StrictRedis(host='redisdbtriguc3.westeurope.redisenterprise.cache.azure.net',\n",
    "    port=10000, db=0, password='hB+FWOy6MDlsL21bmaD1plSNwTa6Vd70TnID02P0r+0=', ssl=True)\n",
    "\n",
    "INDEX_NAME = \"domzis_index\"                       # Vector Index Name\n",
    "DOC_PREFIX = \"doc:\"                               # RediSearch Key Prefix for the Index\n",
    "\n",
    "# function to create the index\n",
    "def create_index(vector_dimensions: int):\n",
    "    try:\n",
    "        # check to see if index exists\n",
    "        r.ft(INDEX_NAME).info()\n",
    "        print(\"Index already exists!\")\n",
    "    except:\n",
    "        # schema\n",
    "        schema = (\n",
    "            TagField(\"tag\"),                       # Tag Field Name\n",
    "            VectorField(\"vector\",                  # Vector Field Name\n",
    "                \"FLAT\", {                          # Vector Index Type: FLAT or HNSW\n",
    "                    \"TYPE\": \"FLOAT32\",             # FLOAT32 or FLOAT64\n",
    "                    \"DIM\": vector_dimensions,      # Number of Vector Dimensions\n",
    "                    \"DISTANCE_METRIC\": \"COSINE\",   # Vector Search Distance Metric\n",
    "                }\n",
    "            ),\n",
    "        )\n",
    "\n",
    "        # index Definition\n",
    "        definition = IndexDefinition(prefix=[DOC_PREFIX], index_type=IndexType.HASH)\n",
    "\n",
    "        # create Index\n",
    "        r.ft(INDEX_NAME).create_index(fields=schema, definition=definition)\n"
   ]
  },
  {
   "cell_type": "code",
   "execution_count": 7,
   "metadata": {},
   "outputs": [
    {
     "data": {
      "text/plain": [
       "True"
      ]
     },
     "execution_count": 7,
     "metadata": {},
     "output_type": "execute_result"
    }
   ],
   "source": [
    "# Test the Redis connection\n",
    "r.ping()"
   ]
  },
  {
   "attachments": {},
   "cell_type": "markdown",
   "metadata": {},
   "source": [
    "#### Index set-up ⚙️"
   ]
  },
  {
   "cell_type": "code",
   "execution_count": 8,
   "metadata": {},
   "outputs": [
    {
     "data": {
      "text/plain": [
       "b'OK'"
      ]
     },
     "execution_count": 8,
     "metadata": {},
     "output_type": "execute_result"
    }
   ],
   "source": [
    "# Drop the index\n",
    "r.ft(INDEX_NAME).dropindex(delete_documents=True)"
   ]
  },
  {
   "cell_type": "code",
   "execution_count": 9,
   "metadata": {},
   "outputs": [],
   "source": [
    "# define vector dimensions\n",
    "VECTOR_DIMENSIONS = 1536\n",
    "\n",
    "# Create a new index\n",
    "create_index(vector_dimensions=VECTOR_DIMENSIONS)"
   ]
  },
  {
   "attachments": {},
   "cell_type": "markdown",
   "metadata": {},
   "source": [
    "#### Write data to Redis 📝"
   ]
  },
  {
   "cell_type": "code",
   "execution_count": 10,
   "metadata": {},
   "outputs": [],
   "source": [
    "np_embedding = np.array(embeddings, dtype=np.float32)\n",
    "\n",
    "# Write to Redis\n",
    "pipe = r.pipeline()\n",
    "ct = 0\n",
    "for i, embedding in enumerate(np_embedding):\n",
    "    by_em = embedding.tobytes()\n",
    "    pipe.hset(f\"doc:{i}\", mapping = {\n",
    "        \"vector\": by_em,\n",
    "        \"content\": Questions_array[i],\n",
    "        \"nivo3\": Nivo3_array[i],\n",
    "        \"nivo3A\": Nivo3A_array[i],\n",
    "        \"tag\": \"openai\"\n",
    "    })\n",
    "    res = pipe.execute()"
   ]
  },
  {
   "attachments": {},
   "cell_type": "markdown",
   "metadata": {},
   "source": [
    "#### Now you can query the database by embedding a question and findig the closest one in the Redis DB 🛢️📮"
   ]
  },
  {
   "cell_type": "code",
   "execution_count": 11,
   "metadata": {},
   "outputs": [],
   "source": [
    "# expected found question: Kaj pomeni odprta zavarovalna doba?\n",
    "\n",
    "q_em = get_embedding(\"Dobil sem mail, da potrebujem čas odprte zavarovalne dobe. Kaj to pomeni?\")\n",
    "q_em = np.array(q_em, dtype=np.float32)"
   ]
  },
  {
   "cell_type": "code",
   "execution_count": 12,
   "metadata": {},
   "outputs": [],
   "source": [
    "query = (\n",
    "    Query(\"(@tag:{ openai })=>[KNN 2 @vector $vec as score]\")\n",
    "     .sort_by(\"score\")\n",
    "     .return_fields(\"content\", \"nivo3\", \"nivo3A\", \"tag\", \"score\")\n",
    "     .paging(0, 1)\n",
    "     .dialect(2)\n",
    ")\n",
    "\n",
    "query_params = {\"vec\": q_em.tobytes()}\n",
    "temp_json = r.ft(INDEX_NAME).search(query, query_params).docs"
   ]
  },
  {
   "cell_type": "code",
   "execution_count": 14,
   "metadata": {},
   "outputs": [
    {
     "name": "stdout",
     "output_type": "stream",
     "text": [
      "Taxonomy: Kaj pomeni odprta zavarovalna doba?  \n",
      "Nivo3: Naložbena in investicijska zavarovanja  \n",
      "Nivo3A: Naložbeno življenjsko zavarovanje  \n",
      "Score: 0.0750132203102\n"
     ]
    }
   ],
   "source": [
    "for doc in temp_json:\n",
    "    print(\"Taxonomy:\", doc['content'], \"\\nNivo3:\", doc['nivo3'], \"\\nNivo3A:\", doc['nivo3A'], \"\\nScore:\", doc['score'])"
   ]
  },
  {
   "attachments": {},
   "cell_type": "markdown",
   "metadata": {},
   "source": [
    "### This is the end of the notebook 😊"
   ]
  }
 ],
 "metadata": {
  "kernelspec": {
   "display_name": "Python 3",
   "language": "python",
   "name": "python3"
  },
  "language_info": {
   "codemirror_mode": {
    "name": "ipython",
    "version": 3
   },
   "file_extension": ".py",
   "mimetype": "text/x-python",
   "name": "python",
   "nbconvert_exporter": "python",
   "pygments_lexer": "ipython3",
   "version": "3.10.9"
  },
  "orig_nbformat": 4
 },
 "nbformat": 4,
 "nbformat_minor": 2
}
